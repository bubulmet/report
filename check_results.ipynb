{
 "cells": [
  {
   "cell_type": "markdown",
   "metadata": {},
   "source": [
    "# Проверка результатов"
   ]
  },
  {
   "cell_type": "markdown",
   "metadata": {
    "toc": true
   },
   "source": [
    "<h1>Содержание<span class=\"tocSkip\"></span></h1>\n",
    "<div class=\"toc\"><ul class=\"toc-item\"><li><span><a href=\"#file1---результат-выполнения-первой-задачи\" data-toc-modified-id=\"file1---результат-выполнения-первой-задачи-1\"><code>file1</code> - результат выполнения первой задачи</a></span></li><li><span><a href=\"#file2---файл-для-соединения-с-file1\" data-toc-modified-id=\"file2---файл-для-соединения-с-file1-2\"><code>file2</code> - файл для соединения с file1</a></span></li><li><span><a href=\"#Удалим-дубли-пар-клиент-телефон-из-file2\" data-toc-modified-id=\"Удалим-дубли-пар-клиент-телефон-из-file2-3\">Удалим дубли пар клиент-телефон из <code>file2</code></a></span></li><li><span><a href=\"#Объединим-файлы,-посмотрим-объём-пересечения.\" data-toc-modified-id=\"Объединим-файлы,-посмотрим-объём-пересечения.-4\">Объединим файлы, посмотрим объём пересечения.</a></span></li><li><span><a href=\"#Что-совпало\" data-toc-modified-id=\"Что-совпало-5\">Что совпало</a></span></li><li><span><a href=\"#Картинки\" data-toc-modified-id=\"Картинки-6\">Картинки</a></span></li><li><span><a href=\"#Выводим-таблицы\" data-toc-modified-id=\"Выводим-таблицы-7\">Выводим таблицы</a></span></li></ul></div>"
   ]
  },
  {
   "cell_type": "code",
   "execution_count": 1,
   "metadata": {
    "ExecuteTime": {
     "end_time": "2020-03-03T19:03:27.219635Z",
     "start_time": "2020-03-03T19:03:25.393453Z"
    }
   },
   "outputs": [],
   "source": [
    "import pandas as pd\n",
    "import numpy as np\n",
    "import matplotlib.pyplot as plt\n",
    "from matplotlib_venn import venn2\n",
    "\n",
    "%matplotlib inline\n",
    "plt.style.use('ggplot')"
   ]
  },
  {
   "cell_type": "markdown",
   "metadata": {},
   "source": [
    "#### `file1` - результат выполнения первой задачи"
   ]
  },
  {
   "cell_type": "code",
   "execution_count": 2,
   "metadata": {
    "ExecuteTime": {
     "end_time": "2020-03-03T19:03:27.239688Z",
     "start_time": "2020-03-03T19:03:27.224654Z"
    }
   },
   "outputs": [],
   "source": [
    "file1 = pd.read_csv('file1.csv')"
   ]
  },
  {
   "cell_type": "code",
   "execution_count": 3,
   "metadata": {
    "ExecuteTime": {
     "end_time": "2020-03-03T19:03:27.387963Z",
     "start_time": "2020-03-03T19:03:27.245848Z"
    }
   },
   "outputs": [
    {
     "name": "stdout",
     "output_type": "stream",
     "text": [
      "Всего пар клиент-телефон в file1: 1112\n"
     ]
    }
   ],
   "source": [
    "print(f'Всего пар клиент-телефон в file1: {len(file1)}')"
   ]
  },
  {
   "cell_type": "code",
   "execution_count": 4,
   "metadata": {
    "ExecuteTime": {
     "end_time": "2020-03-03T19:03:27.512026Z",
     "start_time": "2020-03-03T19:03:27.398401Z"
    }
   },
   "outputs": [
    {
     "name": "stdout",
     "output_type": "stream",
     "text": [
      "Уникальных клиентов в file1: 923\n"
     ]
    }
   ],
   "source": [
    "print(f\"Уникальных клиентов в file1: {file1['EXT_NUMBER'].nunique()}\")"
   ]
  },
  {
   "cell_type": "markdown",
   "metadata": {},
   "source": [
    "#### `file2` - файл для соединения с file1"
   ]
  },
  {
   "cell_type": "code",
   "execution_count": 5,
   "metadata": {
    "ExecuteTime": {
     "end_time": "2020-03-03T19:03:27.639285Z",
     "start_time": "2020-03-03T19:03:27.523880Z"
    }
   },
   "outputs": [],
   "source": [
    "file2 = pd.read_csv('file2.csv')"
   ]
  },
  {
   "cell_type": "code",
   "execution_count": 6,
   "metadata": {
    "ExecuteTime": {
     "end_time": "2020-03-03T19:03:27.750731Z",
     "start_time": "2020-03-03T19:03:27.645675Z"
    }
   },
   "outputs": [
    {
     "name": "stdout",
     "output_type": "stream",
     "text": [
      "Всего пар клиент-телефон в file2: 5657\n"
     ]
    }
   ],
   "source": [
    "print(f'Всего пар клиент-телефон в file2: {len(file2)}')"
   ]
  },
  {
   "cell_type": "code",
   "execution_count": 7,
   "metadata": {
    "ExecuteTime": {
     "end_time": "2020-03-03T19:03:27.878354Z",
     "start_time": "2020-03-03T19:03:27.756867Z"
    }
   },
   "outputs": [
    {
     "name": "stdout",
     "output_type": "stream",
     "text": [
      "Уникальных клиентов в file2: 1917\n"
     ]
    }
   ],
   "source": [
    "print(f\"Уникальных клиентов в file2: {file2['EXT_NUMBER'].nunique()}\")"
   ]
  },
  {
   "cell_type": "markdown",
   "metadata": {},
   "source": [
    "#### Удалим дубли пар клиент-телефон из `file2`"
   ]
  },
  {
   "cell_type": "code",
   "execution_count": 8,
   "metadata": {
    "ExecuteTime": {
     "end_time": "2020-03-03T19:03:28.012704Z",
     "start_time": "2020-03-03T19:03:27.889601Z"
    }
   },
   "outputs": [],
   "source": [
    "file2_duplicated = file2.copy()\n",
    "file2 = file2.drop_duplicates()"
   ]
  },
  {
   "cell_type": "code",
   "execution_count": 9,
   "metadata": {
    "ExecuteTime": {
     "end_time": "2020-03-03T19:03:28.147209Z",
     "start_time": "2020-03-03T19:03:28.029657Z"
    }
   },
   "outputs": [
    {
     "name": "stdout",
     "output_type": "stream",
     "text": [
      "Всего пар клиент-телефон в file2 после удаления дублей: 2355\n"
     ]
    }
   ],
   "source": [
    "print(f'Всего пар клиент-телефон в file2 после удаления дублей: {len(file2)}')"
   ]
  },
  {
   "cell_type": "code",
   "execution_count": 10,
   "metadata": {
    "ExecuteTime": {
     "end_time": "2020-03-03T19:03:28.274969Z",
     "start_time": "2020-03-03T19:03:28.154541Z"
    }
   },
   "outputs": [
    {
     "name": "stdout",
     "output_type": "stream",
     "text": [
      "Уникальных клиентов в file2 после удаления дублей: 1917\n"
     ]
    }
   ],
   "source": [
    "print(f\"Уникальных клиентов в file2 после удаления дублей: {file2['EXT_NUMBER'].nunique()}\")"
   ]
  },
  {
   "cell_type": "markdown",
   "metadata": {},
   "source": [
    "#### Объединим файлы, посмотрим объём пересечения."
   ]
  },
  {
   "cell_type": "code",
   "execution_count": 11,
   "metadata": {
    "ExecuteTime": {
     "end_time": "2020-03-03T19:03:28.465245Z",
     "start_time": "2020-03-03T19:03:28.281885Z"
    }
   },
   "outputs": [],
   "source": [
    "file1['file1'] = 1\n",
    "file2['file2'] = 1\n",
    "\n",
    "df = pd.merge(file1, file2, on=['EXT_NUMBER', 'PHONE'], how='outer')\n",
    "\n",
    "df['file1'] = df['file1'].fillna(0).astype(int)\n",
    "df['file2'] = df['file2'].fillna(0).astype(int)\n",
    "df['intersect'] = df['file1'] == df['file2']"
   ]
  },
  {
   "cell_type": "code",
   "execution_count": 12,
   "metadata": {
    "ExecuteTime": {
     "end_time": "2020-03-03T19:03:28.558717Z",
     "start_time": "2020-03-03T19:03:28.469823Z"
    }
   },
   "outputs": [
    {
     "name": "stdout",
     "output_type": "stream",
     "text": [
      "Всего пар клиент-телефон после объединения: 3200\n"
     ]
    }
   ],
   "source": [
    "print(f'Всего пар клиент-телефон после объединения: {len(df)}')"
   ]
  },
  {
   "cell_type": "code",
   "execution_count": 13,
   "metadata": {
    "ExecuteTime": {
     "end_time": "2020-03-03T19:03:28.702153Z",
     "start_time": "2020-03-03T19:03:28.565448Z"
    }
   },
   "outputs": [
    {
     "name": "stdout",
     "output_type": "stream",
     "text": [
      "Уникальных клиентов после объединения: 2496\n"
     ]
    }
   ],
   "source": [
    "print(f\"Уникальных клиентов после объединения: {df['EXT_NUMBER'].nunique()}\")"
   ]
  },
  {
   "cell_type": "markdown",
   "metadata": {},
   "source": [
    "#### Что совпало"
   ]
  },
  {
   "cell_type": "code",
   "execution_count": 14,
   "metadata": {
    "ExecuteTime": {
     "end_time": "2020-03-03T19:03:28.843889Z",
     "start_time": "2020-03-03T19:03:28.719594Z"
    }
   },
   "outputs": [],
   "source": [
    "intersect = df.loc[df['intersect']]"
   ]
  },
  {
   "cell_type": "code",
   "execution_count": 15,
   "metadata": {
    "ExecuteTime": {
     "end_time": "2020-03-03T19:03:29.400622Z",
     "start_time": "2020-03-03T19:03:28.864309Z"
    }
   },
   "outputs": [
    {
     "name": "stdout",
     "output_type": "stream",
     "text": [
      "Всего пар клиент-телефон в пересечении: 267\n"
     ]
    }
   ],
   "source": [
    "print(f'Всего пар клиент-телефон в пересечении: {len(intersect)}')"
   ]
  },
  {
   "cell_type": "code",
   "execution_count": 16,
   "metadata": {
    "ExecuteTime": {
     "end_time": "2020-03-03T19:03:29.566400Z",
     "start_time": "2020-03-03T19:03:29.408183Z"
    }
   },
   "outputs": [
    {
     "name": "stdout",
     "output_type": "stream",
     "text": [
      "Уникальных клиентов в пересечении: 253\n"
     ]
    }
   ],
   "source": [
    "print(f\"Уникальных клиентов в пересечении: {intersect['EXT_NUMBER'].nunique()}\")"
   ]
  },
  {
   "cell_type": "markdown",
   "metadata": {},
   "source": [
    "#### Картинки"
   ]
  },
  {
   "cell_type": "code",
   "execution_count": 18,
   "metadata": {
    "ExecuteTime": {
     "end_time": "2020-03-03T19:03:35.251928Z",
     "start_time": "2020-03-03T19:03:34.746895Z"
    }
   },
   "outputs": [
    {
     "data": {
      "image/png": "[encoded data removed]",
      "text/plain": [
       "<Figure size 936x576 with 1 Axes>"
      ]
     },
     "metadata": {},
     "output_type": "display_data"
    }
   ],
   "source": [
    "pd.Series({\n",
    "    'с дублями': len(file2_duplicated),\n",
    "    'без дублей': len(file2)\n",
    "}).plot.bar(title='Количество пар клиент-телефон в file2', rot=45, figsize=(13,8));"
   ]
  },
  {
   "cell_type": "code",
   "execution_count": 19,
   "metadata": {
    "ExecuteTime": {
     "end_time": "2020-03-03T19:03:35.727228Z",
     "start_time": "2020-03-03T19:03:35.265920Z"
    }
   },
   "outputs": [
    {
     "data": {
      "image/png": "[encoded data removed]",
      "text/plain": [
       "<Figure size 936x576 with 1 Axes>"
      ]
     },
     "metadata": {},
     "output_type": "display_data"
    }
   ],
   "source": [
    "pd.Series({\n",
    "    'с дублями': file2_duplicated['EXT_NUMBER'].nunique(),\n",
    "    'без дублей': file2['EXT_NUMBER'].nunique()\n",
    "}).plot.bar(title='Количество уникальных клиентов в file2', rot=45, figsize=(13,8));"
   ]
  },
  {
   "cell_type": "code",
   "execution_count": 20,
   "metadata": {
    "ExecuteTime": {
     "end_time": "2020-03-03T19:03:36.193475Z",
     "start_time": "2020-03-03T19:03:35.739627Z"
    }
   },
   "outputs": [
    {
     "data": {
      "image/png": "[encoded data removed]",
      "text/plain": [
       "<Figure size 936x576 with 1 Axes>"
      ]
     },
     "metadata": {},
     "output_type": "display_data"
    }
   ],
   "source": [
    "f, ax = plt.subplots(1,1)\n",
    "ax.set_title(\"Пересечение пар клиент-телефон\")\n",
    "venn2((set(file1['EXT_NUMBER']+file1['PHONE']), set(file2['EXT_NUMBER']+file2['PHONE'])),\n",
    "      set_labels=('file1', 'file2'), ax=ax)\n",
    "f.set_size_inches(13,8)\n",
    "plt.show();"
   ]
  },
  {
   "cell_type": "code",
   "execution_count": 21,
   "metadata": {
    "ExecuteTime": {
     "end_time": "2020-03-03T19:03:36.475497Z",
     "start_time": "2020-03-03T19:03:36.208103Z"
    }
   },
   "outputs": [
    {
     "data": {
      "image/png": "[encoded data removed]",
      "text/plain": [
       "<Figure size 936x576 with 1 Axes>"
      ]
     },
     "metadata": {},
     "output_type": "display_data"
    }
   ],
   "source": [
    "f, ax = plt.subplots(1,1)\n",
    "ax.set_title(\"Пересечение уникальных клиентов\")\n",
    "venn2((set(file1['EXT_NUMBER']), set(file2['EXT_NUMBER'])),\n",
    "      set_labels=('file1', 'file2'), ax=ax)\n",
    "f.set_size_inches(13,8)\n",
    "plt.show();"
   ]
  },
  {
   "cell_type": "markdown",
   "metadata": {},
   "source": [
    "#### Выводим таблицы"
   ]
  },
  {
   "cell_type": "code",
   "execution_count": 17,
   "metadata": {
    "ExecuteTime": {
     "end_time": "2020-03-03T19:03:34.742725Z",
     "start_time": "2020-03-03T19:03:29.574256Z"
    }
   },
   "outputs": [],
   "source": [
    "with pd.ExcelWriter('output.xlsx') as writer:  \n",
    "    file2_duplicated.to_excel(writer, sheet_name='file2_duplicated')\n",
    "    df.to_excel(writer, sheet_name='result')"
   ]
  },
  {
   "cell_type": "code",
   "execution_count": null,
   "metadata": {},
   "outputs": [],
   "source": []
  }
 ],
 "metadata": {
  "kernelspec": {
   "display_name": "Python [conda env:sandbox]",
   "language": "python",
   "name": "conda-env-sandbox-py"
  },
  "language_info": {
   "codemirror_mode": {
    "name": "ipython",
    "version": 3
   },
   "file_extension": ".py",
   "mimetype": "text/x-python",
   "name": "python",
   "nbconvert_exporter": "python",
   "pygments_lexer": "ipython3",
   "version": "3.7.6"
  },
  "toc": {
   "base_numbering": 1,
   "nav_menu": {},
   "number_sections": false,
   "sideBar": true,
   "skip_h1_title": true,
   "title_cell": "Содержание",
   "title_sidebar": "Contents",
   "toc_cell": true,
   "toc_position": {
    "height": "calc(100% - 180px)",
    "left": "10px",
    "top": "150px",
    "width": "263px"
   },
   "toc_section_display": true,
   "toc_window_display": true
  },
  "varInspector": {
   "cols": {
    "lenName": 16,
    "lenType": 16,
    "lenVar": 40
   },
   "kernels_config": {
    "python": {
     "delete_cmd_postfix": "",
     "delete_cmd_prefix": "del ",
     "library": "var_list.py",
     "varRefreshCmd": "print(var_dic_list())"
    },
    "r": {
     "delete_cmd_postfix": ") ",
     "delete_cmd_prefix": "rm(",
     "library": "var_list.r",
     "varRefreshCmd": "cat(var_dic_list()) "
    }
   },
   "types_to_exclude": [
    "module",
    "function",
    "builtin_function_or_method",
    "instance",
    "_Feature"
   ],
   "window_display": false
  }
 },
 "nbformat": 4,
 "nbformat_minor": 4
}
